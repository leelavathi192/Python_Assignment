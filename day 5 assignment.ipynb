{
 "cells": [
  {
   "cell_type": "markdown",
   "metadata": {},
   "source": [
    "# to merge two sorted list "
   ]
  },
  {
   "cell_type": "code",
   "execution_count": 1,
   "metadata": {},
   "outputs": [
    {
     "name": "stdout",
     "output_type": "stream",
     "text": [
      "list 1 is [10, 20, 40, 60, 70, 80]\n",
      "list 2 is [5, 15, 25, 35, 45, 60]\n",
      "the combined list is [5, 10, 15, 20, 25, 35, 40, 45, 60, 60, 70, 80]\n"
     ]
    }
   ],
   "source": [
    "list1=[10,20,40,60,70,80] \n",
    "list2=[5,15,25,35,45,60]\n",
    "\n",
    "res = [] \n",
    "i, j = 0, 0\n",
    "\n",
    "print(f\"list 1 is {list1}\")\n",
    "print(f\"list 2 is {list2}\")\n",
    "  \n",
    "while i < len(list1) and j < len(list2): \n",
    "    if list1[i] < list2[j]: \n",
    "        res.append(list1[i]) \n",
    "        i=i+1\n",
    "    else: \n",
    "        res.append(list2[j]) \n",
    "        j=j+1\n",
    "res = res + list1[i:] + list2[j:] \n",
    "print(f\"the combined list is {res}\")\n",
    "\n"
   ]
  },
  {
   "cell_type": "markdown",
   "metadata": {},
   "source": [
    "# sort list and move all zeros to end"
   ]
  },
  {
   "cell_type": "code",
   "execution_count": 1,
   "metadata": {},
   "outputs": [
    {
     "name": "stdout",
     "output_type": "stream",
     "text": [
      "[1, 1, 1, 2, 2, 3, 4, 4, 10, 56, 56, 0, 0, 0, 0, 0]\n"
     ]
    }
   ],
   "source": [
    "list4=[0,1,2,10,4,1,0,56,2,0,1,3,0,56,0,4]\n",
    "list4.sort()\n",
    "while(list4[0]==0):\n",
    "    list4.remove(0)\n",
    "    list4.append(0)\n",
    "print(list4)\n",
    "\n",
    "\n"
   ]
  },
  {
   "cell_type": "code",
   "execution_count": null,
   "metadata": {},
   "outputs": [],
   "source": []
  }
 ],
 "metadata": {
  "kernelspec": {
   "display_name": "Python 3",
   "language": "python",
   "name": "python3"
  },
  "language_info": {
   "codemirror_mode": {
    "name": "ipython",
    "version": 3
   },
   "file_extension": ".py",
   "mimetype": "text/x-python",
   "name": "python",
   "nbconvert_exporter": "python",
   "pygments_lexer": "ipython3",
   "version": "3.7.6"
  }
 },
 "nbformat": 4,
 "nbformat_minor": 4
}
